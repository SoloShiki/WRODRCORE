{
 "cells": [
  {
   "cell_type": "code",
   "execution_count": 1,
   "id": "e7f57c70-1b5b-4acc-904e-95ab3004e163",
   "metadata": {},
   "outputs": [
    {
     "name": "stdout",
     "output_type": "stream",
     "text": [
      "C:\\Users\\emartezorrilla\\OneDrive - University of Florida\\EED_PHD_EM_shared_2020\\Papers_WorkinPorgress\\98 Robot_FIVX-2025\n"
     ]
    }
   ],
   "source": [
    "cd C:\\Users\\emartezorrilla\\OneDrive - University of Florida\\EED_PHD_EM_shared_2020\\Papers_WorkinPorgress\\98 Robot_FIVX-2025"
   ]
  },
  {
   "cell_type": "code",
   "execution_count": 2,
   "id": "3a0c87a2-d0a4-4d9b-9fda-b36486ff3097",
   "metadata": {},
   "outputs": [
    {
     "name": "stdout",
     "output_type": "stream",
     "text": [
      " Volume in drive C is Windows\n",
      " Volume Serial Number is 2042-1F2B\n",
      "\n",
      " Directory of C:\\Users\\emartezorrilla\\OneDrive - University of Florida\\EED_PHD_EM_shared_2020\\Papers_WorkinPorgress\\98 Robot_FIVX-2025\n",
      "\n",
      "09/28/2025  09:17 PM    <DIR>          .\n",
      "09/30/2025  02:28 PM    <DIR>          ..\n",
      "09/15/2025  02:06 PM    <DIR>          .ipynb_checkpoints\n",
      "09/18/2025  07:42 PM    <DIR>          backup\n",
      "09/19/2025  01:11 PM            76,964 Cahnging_Polarity.docx\n",
      "09/27/2025  08:11 PM  (11,694,915,584) edwin_Mpi_container.tar\n",
      "09/28/2025  09:18 PM    <DIR>          images_edwin\n",
      "09/07/2025  09:58 AM         8,781,927 Instrucciones RRC Lite.docx\n",
      "09/15/2025  01:53 PM             6,394 map_creator.ipynb\n",
      "09/15/2025  01:56 PM    <DIR>          maps\n",
      "09/15/2025  01:43 PM           148,846 maze_01.png\n",
      "09/15/2025  01:50 PM            31,545 maze_01_binary.png\n",
      "09/23/2025  09:28 AM    <DIR>          Turning_references\n",
      "10/05/2025  10:38 AM    <DIR>          WROS_RD_ROS\n",
      "               6 File(s) 11,703,961,260 bytes\n",
      "               8 Dir(s)  158,580,768,768 bytes free\n"
     ]
    }
   ],
   "source": [
    "ls"
   ]
  },
  {
   "cell_type": "code",
   "execution_count": 3,
   "id": "0bc49fa9-7d03-4ed4-b3e3-142b60d1f985",
   "metadata": {},
   "outputs": [
    {
     "name": "stdout",
     "output_type": "stream",
     "text": [
      "Requirement already satisfied: opencv-python in c:\\users\\emartezorrilla\\appdata\\local\\anaconda3\\lib\\site-packages (4.12.0.88)\n",
      "Requirement already satisfied: numpy<2.3.0,>=2 in c:\\users\\emartezorrilla\\appdata\\local\\anaconda3\\lib\\site-packages (from opencv-python) (2.2.6)\n"
     ]
    }
   ],
   "source": [
    "!pip install opencv-python"
   ]
  },
  {
   "cell_type": "markdown",
   "id": "e0f6ceaf-81b3-402d-9f73-c90778f2b728",
   "metadata": {},
   "source": [
    "Converting the image\n",
    "First of all, we need to make sure the image is in binary format. Here is a Python file, credits to automaticaddison.com; we place it in utils folder that is located in the src folder of our workspace, outside navigation_bot_06 folder. This way any project (like futire navigation_bot_XXX) can use it:\n",
    "\n",
    "convert_png_to_binary.py:"
   ]
  },
  {
   "cell_type": "code",
   "execution_count": 10,
   "id": "6c480a55-cfa8-4e9b-8adb-cb990018dc42",
   "metadata": {},
   "outputs": [
    {
     "data": {
      "text/plain": [
       "True"
      ]
     },
     "execution_count": 10,
     "metadata": {},
     "output_type": "execute_result"
    }
   ],
   "source": [
    "                    import cv2 # Import OpenCV\n",
    "\n",
    "                    # read the image file\n",
    "                    img = cv2.imread('patio.jpg')\n",
    "                    \n",
    "                    ret, bw_img = cv2.threshold(img, 220, 255, cv2.THRESH_BINARY)\n",
    "                    \n",
    "                    # converting to its binary form\n",
    "                    bw = cv2.threshold(img, 240, 255, cv2.THRESH_BINARY)\n",
    "                    \n",
    "                    cv2.imwrite(\"patio_binary.jpg\", bw_img)"
   ]
  },
  {
   "cell_type": "markdown",
   "id": "b091ea3b-dc58-4da7-a2fd-842b35cfd7f9",
   "metadata": {},
   "source": [
    "Generating the map\n",
    "In utils folder, create convert_png_to_map.py file"
   ]
  },
  {
   "cell_type": "code",
   "execution_count": 11,
   "id": "b56406c1-5820-402d-994e-aaa2adeb3224",
   "metadata": {},
   "outputs": [],
   "source": [
    "import numpy as np\n",
    "import cv2\n",
    "import math\n",
    "import os.path\n",
    "\n",
    "# The name of your floor plan you want to convert to a ROS map: \n",
    "strSrcFileName = \"patio_binary.png\"\n",
    "image = cv2.imread(strSrcFileName)\n",
    "\n",
    "strDstFileName = \"patio_01\"\n",
    "strDstLocation = \"maps/\"\n",
    "\n",
    "# We scale the map, so it is 40 meters wide\n",
    "img_width_meters = 6.00\n",
    "\n",
    "width, height, _ = image.shape\n",
    "\n",
    "x1 = [0,width,  0,0]\n",
    "y1 = [0,0,      0,height]\n",
    "\n",
    "deltax = img_width_meters\n",
    "dx = math.sqrt((x1[1]-x1[0])**2 + (y1[1]-y1[0])**2)*.05\n",
    "sx = deltax / dx\n",
    "\n",
    "deltay = img_width_meters * float(height) / width\n",
    "dy = math.sqrt((x1[3]-x1[2])**2 + (y1[3]-y1[2])**2)*.05\n",
    "sy = deltay/dy \n",
    "\n",
    "res = cv2.resize(image, None, fx=sx, fy=sy, interpolation = cv2.INTER_CUBIC)\n",
    "\n",
    "# Convert to grey\n",
    "res = cv2.cvtColor(res, cv2.COLOR_BGR2GRAY)\n",
    "#cv2.imwrite(\"KEC_BuildingCorrected.pgm\", res );\n",
    "#      cv2.imshow(\"Image2\", res)\n",
    "\n",
    "completeFileNameMap = os.path.join(strDstLocation, strDstFileName +\".pgm\")\n",
    "completeFileNameYaml = os.path.join(strDstLocation, strDstFileName +\".yaml\")\n",
    "    \n",
    "cv2.imwrite(completeFileNameMap, res )\n",
    "\n",
    "yaml = open(completeFileNameYaml, \"w\")\n",
    "\n",
    "yaml.write(\"image: \" + strDstFileName + \".pgm\\n\")\n",
    "yaml.write(\"resolution: 0.050000\\n\")\n",
    "yaml.write(\"origin: [\" + str(-1) + \",\" +  str(-1) + \", 0.000000]\\n\")\n",
    "yaml.write(\"negate: 0\\noccupied_thresh: 0.65\\nfree_thresh: 0.196\")\n",
    "yaml.close()"
   ]
  },
  {
   "cell_type": "code",
   "execution_count": null,
   "id": "203c65cb-ee4c-481a-a514-56af2460a43c",
   "metadata": {},
   "outputs": [],
   "source": []
  }
 ],
 "metadata": {
  "kernelspec": {
   "display_name": "Python 3 (ipykernel)",
   "language": "python",
   "name": "python3"
  },
  "language_info": {
   "codemirror_mode": {
    "name": "ipython",
    "version": 3
   },
   "file_extension": ".py",
   "mimetype": "text/x-python",
   "name": "python",
   "nbconvert_exporter": "python",
   "pygments_lexer": "ipython3",
   "version": "3.11.7"
  }
 },
 "nbformat": 4,
 "nbformat_minor": 5
}
